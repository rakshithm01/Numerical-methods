{
 "cells": [
  {
   "cell_type": "markdown",
   "id": "7442fcfa",
   "metadata": {},
   "source": [
    "# Problem 2: Write a program to find roots of a polynomial with degree higher than 4 using the Birge-Vieta method."
   ]
  },
  {
   "cell_type": "code",
   "execution_count": 22,
   "id": "bb88fbcc",
   "metadata": {},
   "outputs": [
    {
     "name": "stdout",
     "output_type": "stream",
     "text": [
      "Enter the initial guess root: -0.5\n",
      "Enter the degree of the polynomial: 4\n",
      "Enter the coefficients of the polynomial one by one\n",
      "a0: 1\n",
      "a1: 1\n",
      "a2: -8\n",
      "a3: -11\n",
      "a4: -3\n"
     ]
    }
   ],
   "source": [
    "# Getting the initial guess for the root and the degree of the polynomial from the user\n",
    "x0 = float(input('Enter the initial guess root: '))\n",
    "N = int(input('Enter the degree of the polynomial: '))\n",
    "\n",
    "# Getting the coefficients of the polynomial from the user and storing them in a list\n",
    "print('Enter the coefficients of the polynomial one by one')\n",
    "coefficients = []\n",
    "for i in range(N+1):\n",
    "    a = float(input(f'a{i}: '))\n",
    "    coefficients.append(a)\n",
    "\n",
    "\n",
    "err = 1e-15 # The error margin"
   ]
  },
  {
   "cell_type": "code",
   "execution_count": 23,
   "id": "76ead568",
   "metadata": {},
   "outputs": [
    {
     "name": "stdout",
     "output_type": "stream",
     "text": [
      "\n",
      "\n",
      "Root number 1\n",
      "-0.38196601125010515\n",
      "\n",
      "\n",
      "Root number 2\n",
      "-0.9999999999999999\n",
      "\n",
      "\n",
      "Root number 3\n",
      "-2.618033988749895\n",
      "\n",
      "\n",
      "Root number 4\n",
      "3.0\n",
      "\n",
      "\n",
      "List of roots of the equation: [-0.38196601125010515, -0.9999999999999999, -2.618033988749895, 3.0]\n"
     ]
    }
   ],
   "source": [
    "# Initialize the list to store the roots\n",
    "roots = []\n",
    "\n",
    "# Loop through each root of the polynomial\n",
    "for k in range(0, N):\n",
    "    print(f'\\n\\nRoot number {k+1}')\n",
    "\n",
    "    while(True):\n",
    "        bm = cm = 0 # Coefficients of the reduced polynomial and its derivative\n",
    "        bn_list = []\n",
    "        # Loop through each coefficient of the polynomial\n",
    "        for i in range(len(coefficients)):\n",
    "            # Compute bn and cn using Birge-Vieta method\n",
    "            bn = coefficients[i] + x0 * bm\n",
    "            cn = bm + x0 * cm\n",
    "\n",
    "            bn_list.append(bn)\n",
    "            cm = cn\n",
    "            bm = bn\n",
    "    \n",
    "\n",
    "        x1 = x0 - bn / cn # Newton-Raphson method to find root\n",
    "        \n",
    "        # Check if the root has converged to within the error margin\n",
    "        if abs(x0 - x1) < err:\n",
    "            # If the root has converged, update the coefficients and add the root to the list\n",
    "            coefficients = bn_list[:-1]\n",
    "            roots.append(x0)\n",
    "            print(x0)\n",
    "            break\n",
    "\n",
    "        x0 = x1 # Update initial starting root\n",
    "\n",
    "print(f'\\n\\nList of roots of the equation: {roots}')"
   ]
  },
  {
   "cell_type": "markdown",
   "id": "3ddaba40",
   "metadata": {},
   "source": [
    "## As we can see, the Birge-Veita method works quite well for polynomials with all real roots."
   ]
  },
  {
   "cell_type": "markdown",
   "id": "f2069a85",
   "metadata": {},
   "source": [
    "# Problem 1: Find the roots of the polynomial 5x^3-4x^2-x-3=0"
   ]
  },
  {
   "cell_type": "markdown",
   "id": "f4292d24",
   "metadata": {},
   "source": [
    "## Let us try to find the roots of this polynomial using Birge-Vieta method."
   ]
  },
  {
   "cell_type": "code",
   "execution_count": 27,
   "id": "02501832",
   "metadata": {},
   "outputs": [
    {
     "name": "stdout",
     "output_type": "stream",
     "text": [
      "Enter the initial guess root: 100\n",
      "Enter the degree of the polynomial: 3\n",
      "Enter the coefficients of the polynomial one by one\n",
      "a0: 5\n",
      "a1: -4\n",
      "a2: -1\n",
      "a3: -3\n"
     ]
    }
   ],
   "source": [
    "# Getting the initial guess for the root and the degree of the polynomial from the user\n",
    "x0 = float(input('Enter the initial guess root: '))\n",
    "N = int(input('Enter the degree of the polynomial: '))\n",
    "\n",
    "# Getting the coefficients of the polynomial from the user and storing them in a list\n",
    "print('Enter the coefficients of the polynomial one by one')\n",
    "coefficients = []\n",
    "for i in range(N+1):\n",
    "    a = float(input(f'a{i}: '))\n",
    "    coefficients.append(a)\n",
    "\n",
    "\n",
    "err = 1e-15 # The error margin"
   ]
  },
  {
   "cell_type": "code",
   "execution_count": null,
   "id": "e4b0faa7",
   "metadata": {},
   "outputs": [
    {
     "name": "stdout",
     "output_type": "stream",
     "text": [
      "\n",
      "\n",
      "Root number 1\n",
      "1.3053445513359023\n",
      "\n",
      "\n",
      "Root number 2\n"
     ]
    }
   ],
   "source": [
    "# Initialize the list to store the roots\n",
    "roots = []\n",
    "\n",
    "# Loop through each root of the polynomial\n",
    "for k in range(0, N):\n",
    "    print(f'\\n\\nRoot number {k+1}')\n",
    "\n",
    "    while(True):\n",
    "        bm = cm = 0 # Coefficients of the reduced polynomial and its derivative\n",
    "        bn_list = []\n",
    "        # Loop through each coefficient of the polynomial\n",
    "        for i in range(len(coefficients)):\n",
    "            # Compute bn and cn using Birge-Vieta method\n",
    "            bn = coefficients[i] + x0 * bm\n",
    "            cn = bm + x0 * cm\n",
    "\n",
    "            bn_list.append(bn)\n",
    "            cm = cn\n",
    "            bm = bn\n",
    "    \n",
    "\n",
    "        x1 = x0 - bn / cn # Newton-Raphson method to find root\n",
    "        \n",
    "        # Check if the root has converged to within the error margin\n",
    "        if abs(x0 - x1) < err:\n",
    "            # If the root has converged, update the coefficients and add the root to the list\n",
    "            coefficients = bn_list[:-1]\n",
    "            roots.append(x0)\n",
    "            print(x0)\n",
    "            break\n",
    "\n",
    "        x0 = x1 # Update initial starting root\n",
    "\n",
    "print(f'\\n\\nList of roots of the equation: {roots}')"
   ]
  },
  {
   "cell_type": "markdown",
   "id": "77bf69f0",
   "metadata": {},
   "source": [
    "## As we can see, Birge vieta method only gives one root of the polynomial, which means the other roots are complex. By doing long division of the polynomials with (x-1.30), we get the other roots as: -0.25+0.63i and -0.25-0.63i, hence the polynomial has 3 roots."
   ]
  }
 ],
 "metadata": {
  "kernelspec": {
   "display_name": "Python 3 (ipykernel)",
   "language": "python",
   "name": "python3"
  },
  "language_info": {
   "codemirror_mode": {
    "name": "ipython",
    "version": 3
   },
   "file_extension": ".py",
   "mimetype": "text/x-python",
   "name": "python",
   "nbconvert_exporter": "python",
   "pygments_lexer": "ipython3",
   "version": "3.10.8"
  }
 },
 "nbformat": 4,
 "nbformat_minor": 5
}
